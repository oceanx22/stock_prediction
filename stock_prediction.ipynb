{
  "nbformat": 4,
  "nbformat_minor": 0,
  "metadata": {
    "colab": {
      "provenance": [],
      "authorship_tag": "ABX9TyO9a9dsKCSVTNpkqe6Utxrp",
      "include_colab_link": true
    },
    "kernelspec": {
      "name": "python3",
      "display_name": "Python 3"
    },
    "language_info": {
      "name": "python"
    }
  },
  "cells": [
    {
      "cell_type": "markdown",
      "metadata": {
        "id": "view-in-github",
        "colab_type": "text"
      },
      "source": [
        "<a href=\"https://colab.research.google.com/github/oceanx22/stock_prediction/blob/main/stock_prediction.ipynb\" target=\"_parent\"><img src=\"https://colab.research.google.com/assets/colab-badge.svg\" alt=\"Open In Colab\"/></a>"
      ]
    },
    {
      "cell_type": "markdown",
      "source": [
        "# **GOOGLE Stock Price Prediction**\n",
        "\n",
        "## Linear Regression Model"
      ],
      "metadata": {
        "id": "P318k_wJtNTP"
      }
    },
    {
      "cell_type": "markdown",
      "source": [
        "Importing Libraries"
      ],
      "metadata": {
        "id": "RUZdkoEyt3N_"
      }
    },
    {
      "cell_type": "code",
      "source": [
        "#Importing the necessary python libraries\n",
        "import numpy as np\n",
        "import pandas as pd\n",
        "import matplotlib.pyplot as plt\n",
        "%matplotlib inline\n",
        "import seaborn as sns\n",
        "import datetime\n",
        "# For preprocessing of data\n",
        "from sklearn.preprocessing import MinMaxScaler,StandardScaler\n",
        "# For building the Regression Model\n",
        "from sklearn.model_selection import train_test_split\n",
        "from sklearn.linear_model import LinearRegression\n",
        "# For Model Evaluation\n",
        "from sklearn.metrics import r2_score,mean_absolute_error,mean_squared_error"
      ],
      "metadata": {
        "id": "10-DjVMht40S"
      },
      "execution_count": 1,
      "outputs": []
    },
    {
      "cell_type": "markdown",
      "source": [
        "    COLLECTING AND LOADING DATA"
      ],
      "metadata": {
        "id": "9Ng2pMPfuOps"
      }
    },
    {
      "cell_type": "code",
      "source": [
        "# Importing the csv file\n",
        "df = pd.read_csv ('GOOGL.csv')"
      ],
      "metadata": {
        "colab": {
          "base_uri": "https://localhost:8080/",
          "height": 269
        },
        "id": "PFDE-2rJuPl2",
        "outputId": "e9e9c579-2ec9-4f6b-99c9-187b69482dab"
      },
      "execution_count": 5,
      "outputs": [
        {
          "output_type": "error",
          "ename": "ParserError",
          "evalue": "ignored",
          "traceback": [
            "\u001b[0;31m---------------------------------------------------------------------------\u001b[0m",
            "\u001b[0;31mParserError\u001b[0m                               Traceback (most recent call last)",
            "\u001b[0;32m<ipython-input-5-c805e2984fa3>\u001b[0m in \u001b[0;36m<cell line: 2>\u001b[0;34m()\u001b[0m\n\u001b[1;32m      1\u001b[0m \u001b[0;31m# Importing the csv file\u001b[0m\u001b[0;34m\u001b[0m\u001b[0;34m\u001b[0m\u001b[0m\n\u001b[0;32m----> 2\u001b[0;31m \u001b[0mdf\u001b[0m \u001b[0;34m=\u001b[0m \u001b[0mpd\u001b[0m\u001b[0;34m.\u001b[0m\u001b[0mread_csv\u001b[0m \u001b[0;34m(\u001b[0m\u001b[0;34m'GOOGL.csv'\u001b[0m\u001b[0;34m)\u001b[0m\u001b[0;34m\u001b[0m\u001b[0;34m\u001b[0m\u001b[0m\n\u001b[0m",
            "\u001b[0;32m/usr/local/lib/python3.10/dist-packages/pandas/util/_decorators.py\u001b[0m in \u001b[0;36mwrapper\u001b[0;34m(*args, **kwargs)\u001b[0m\n\u001b[1;32m    209\u001b[0m                 \u001b[0;32melse\u001b[0m\u001b[0;34m:\u001b[0m\u001b[0;34m\u001b[0m\u001b[0;34m\u001b[0m\u001b[0m\n\u001b[1;32m    210\u001b[0m                     \u001b[0mkwargs\u001b[0m\u001b[0;34m[\u001b[0m\u001b[0mnew_arg_name\u001b[0m\u001b[0;34m]\u001b[0m \u001b[0;34m=\u001b[0m \u001b[0mnew_arg_value\u001b[0m\u001b[0;34m\u001b[0m\u001b[0;34m\u001b[0m\u001b[0m\n\u001b[0;32m--> 211\u001b[0;31m             \u001b[0;32mreturn\u001b[0m \u001b[0mfunc\u001b[0m\u001b[0;34m(\u001b[0m\u001b[0;34m*\u001b[0m\u001b[0margs\u001b[0m\u001b[0;34m,\u001b[0m \u001b[0;34m**\u001b[0m\u001b[0mkwargs\u001b[0m\u001b[0;34m)\u001b[0m\u001b[0;34m\u001b[0m\u001b[0;34m\u001b[0m\u001b[0m\n\u001b[0m\u001b[1;32m    212\u001b[0m \u001b[0;34m\u001b[0m\u001b[0m\n\u001b[1;32m    213\u001b[0m         \u001b[0;32mreturn\u001b[0m \u001b[0mcast\u001b[0m\u001b[0;34m(\u001b[0m\u001b[0mF\u001b[0m\u001b[0;34m,\u001b[0m \u001b[0mwrapper\u001b[0m\u001b[0;34m)\u001b[0m\u001b[0;34m\u001b[0m\u001b[0;34m\u001b[0m\u001b[0m\n",
            "\u001b[0;32m/usr/local/lib/python3.10/dist-packages/pandas/util/_decorators.py\u001b[0m in \u001b[0;36mwrapper\u001b[0;34m(*args, **kwargs)\u001b[0m\n\u001b[1;32m    329\u001b[0m                     \u001b[0mstacklevel\u001b[0m\u001b[0;34m=\u001b[0m\u001b[0mfind_stack_level\u001b[0m\u001b[0;34m(\u001b[0m\u001b[0;34m)\u001b[0m\u001b[0;34m,\u001b[0m\u001b[0;34m\u001b[0m\u001b[0;34m\u001b[0m\u001b[0m\n\u001b[1;32m    330\u001b[0m                 )\n\u001b[0;32m--> 331\u001b[0;31m             \u001b[0;32mreturn\u001b[0m \u001b[0mfunc\u001b[0m\u001b[0;34m(\u001b[0m\u001b[0;34m*\u001b[0m\u001b[0margs\u001b[0m\u001b[0;34m,\u001b[0m \u001b[0;34m**\u001b[0m\u001b[0mkwargs\u001b[0m\u001b[0;34m)\u001b[0m\u001b[0;34m\u001b[0m\u001b[0;34m\u001b[0m\u001b[0m\n\u001b[0m\u001b[1;32m    332\u001b[0m \u001b[0;34m\u001b[0m\u001b[0m\n\u001b[1;32m    333\u001b[0m         \u001b[0;31m# error: \"Callable[[VarArg(Any), KwArg(Any)], Any]\" has no\u001b[0m\u001b[0;34m\u001b[0m\u001b[0;34m\u001b[0m\u001b[0m\n",
            "\u001b[0;32m/usr/local/lib/python3.10/dist-packages/pandas/io/parsers/readers.py\u001b[0m in \u001b[0;36mread_csv\u001b[0;34m(filepath_or_buffer, sep, delimiter, header, names, index_col, usecols, squeeze, prefix, mangle_dupe_cols, dtype, engine, converters, true_values, false_values, skipinitialspace, skiprows, skipfooter, nrows, na_values, keep_default_na, na_filter, verbose, skip_blank_lines, parse_dates, infer_datetime_format, keep_date_col, date_parser, dayfirst, cache_dates, iterator, chunksize, compression, thousands, decimal, lineterminator, quotechar, quoting, doublequote, escapechar, comment, encoding, encoding_errors, dialect, error_bad_lines, warn_bad_lines, on_bad_lines, delim_whitespace, low_memory, memory_map, float_precision, storage_options)\u001b[0m\n\u001b[1;32m    948\u001b[0m     \u001b[0mkwds\u001b[0m\u001b[0;34m.\u001b[0m\u001b[0mupdate\u001b[0m\u001b[0;34m(\u001b[0m\u001b[0mkwds_defaults\u001b[0m\u001b[0;34m)\u001b[0m\u001b[0;34m\u001b[0m\u001b[0;34m\u001b[0m\u001b[0m\n\u001b[1;32m    949\u001b[0m \u001b[0;34m\u001b[0m\u001b[0m\n\u001b[0;32m--> 950\u001b[0;31m     \u001b[0;32mreturn\u001b[0m \u001b[0m_read\u001b[0m\u001b[0;34m(\u001b[0m\u001b[0mfilepath_or_buffer\u001b[0m\u001b[0;34m,\u001b[0m \u001b[0mkwds\u001b[0m\u001b[0;34m)\u001b[0m\u001b[0;34m\u001b[0m\u001b[0;34m\u001b[0m\u001b[0m\n\u001b[0m\u001b[1;32m    951\u001b[0m \u001b[0;34m\u001b[0m\u001b[0m\n\u001b[1;32m    952\u001b[0m \u001b[0;34m\u001b[0m\u001b[0m\n",
            "\u001b[0;32m/usr/local/lib/python3.10/dist-packages/pandas/io/parsers/readers.py\u001b[0m in \u001b[0;36m_read\u001b[0;34m(filepath_or_buffer, kwds)\u001b[0m\n\u001b[1;32m    609\u001b[0m \u001b[0;34m\u001b[0m\u001b[0m\n\u001b[1;32m    610\u001b[0m     \u001b[0;32mwith\u001b[0m \u001b[0mparser\u001b[0m\u001b[0;34m:\u001b[0m\u001b[0;34m\u001b[0m\u001b[0;34m\u001b[0m\u001b[0m\n\u001b[0;32m--> 611\u001b[0;31m         \u001b[0;32mreturn\u001b[0m \u001b[0mparser\u001b[0m\u001b[0;34m.\u001b[0m\u001b[0mread\u001b[0m\u001b[0;34m(\u001b[0m\u001b[0mnrows\u001b[0m\u001b[0;34m)\u001b[0m\u001b[0;34m\u001b[0m\u001b[0;34m\u001b[0m\u001b[0m\n\u001b[0m\u001b[1;32m    612\u001b[0m \u001b[0;34m\u001b[0m\u001b[0m\n\u001b[1;32m    613\u001b[0m \u001b[0;34m\u001b[0m\u001b[0m\n",
            "\u001b[0;32m/usr/local/lib/python3.10/dist-packages/pandas/io/parsers/readers.py\u001b[0m in \u001b[0;36mread\u001b[0;34m(self, nrows)\u001b[0m\n\u001b[1;32m   1776\u001b[0m                     \u001b[0mcolumns\u001b[0m\u001b[0;34m,\u001b[0m\u001b[0;34m\u001b[0m\u001b[0;34m\u001b[0m\u001b[0m\n\u001b[1;32m   1777\u001b[0m                     \u001b[0mcol_dict\u001b[0m\u001b[0;34m,\u001b[0m\u001b[0;34m\u001b[0m\u001b[0;34m\u001b[0m\u001b[0m\n\u001b[0;32m-> 1778\u001b[0;31m                 \u001b[0;34m)\u001b[0m \u001b[0;34m=\u001b[0m \u001b[0mself\u001b[0m\u001b[0;34m.\u001b[0m\u001b[0m_engine\u001b[0m\u001b[0;34m.\u001b[0m\u001b[0mread\u001b[0m\u001b[0;34m(\u001b[0m  \u001b[0;31m# type: ignore[attr-defined]\u001b[0m\u001b[0;34m\u001b[0m\u001b[0;34m\u001b[0m\u001b[0m\n\u001b[0m\u001b[1;32m   1779\u001b[0m                     \u001b[0mnrows\u001b[0m\u001b[0;34m\u001b[0m\u001b[0;34m\u001b[0m\u001b[0m\n\u001b[1;32m   1780\u001b[0m                 )\n",
            "\u001b[0;32m/usr/local/lib/python3.10/dist-packages/pandas/io/parsers/c_parser_wrapper.py\u001b[0m in \u001b[0;36mread\u001b[0;34m(self, nrows)\u001b[0m\n\u001b[1;32m    228\u001b[0m         \u001b[0;32mtry\u001b[0m\u001b[0;34m:\u001b[0m\u001b[0;34m\u001b[0m\u001b[0;34m\u001b[0m\u001b[0m\n\u001b[1;32m    229\u001b[0m             \u001b[0;32mif\u001b[0m \u001b[0mself\u001b[0m\u001b[0;34m.\u001b[0m\u001b[0mlow_memory\u001b[0m\u001b[0;34m:\u001b[0m\u001b[0;34m\u001b[0m\u001b[0;34m\u001b[0m\u001b[0m\n\u001b[0;32m--> 230\u001b[0;31m                 \u001b[0mchunks\u001b[0m \u001b[0;34m=\u001b[0m \u001b[0mself\u001b[0m\u001b[0;34m.\u001b[0m\u001b[0m_reader\u001b[0m\u001b[0;34m.\u001b[0m\u001b[0mread_low_memory\u001b[0m\u001b[0;34m(\u001b[0m\u001b[0mnrows\u001b[0m\u001b[0;34m)\u001b[0m\u001b[0;34m\u001b[0m\u001b[0;34m\u001b[0m\u001b[0m\n\u001b[0m\u001b[1;32m    231\u001b[0m                 \u001b[0;31m# destructive to chunks\u001b[0m\u001b[0;34m\u001b[0m\u001b[0;34m\u001b[0m\u001b[0m\n\u001b[1;32m    232\u001b[0m                 \u001b[0mdata\u001b[0m \u001b[0;34m=\u001b[0m \u001b[0m_concatenate_chunks\u001b[0m\u001b[0;34m(\u001b[0m\u001b[0mchunks\u001b[0m\u001b[0;34m)\u001b[0m\u001b[0;34m\u001b[0m\u001b[0;34m\u001b[0m\u001b[0m\n",
            "\u001b[0;32m/usr/local/lib/python3.10/dist-packages/pandas/_libs/parsers.pyx\u001b[0m in \u001b[0;36mpandas._libs.parsers.TextReader.read_low_memory\u001b[0;34m()\u001b[0m\n",
            "\u001b[0;32m/usr/local/lib/python3.10/dist-packages/pandas/_libs/parsers.pyx\u001b[0m in \u001b[0;36mpandas._libs.parsers.TextReader._read_rows\u001b[0;34m()\u001b[0m\n",
            "\u001b[0;32m/usr/local/lib/python3.10/dist-packages/pandas/_libs/parsers.pyx\u001b[0m in \u001b[0;36mpandas._libs.parsers.TextReader._tokenize_rows\u001b[0;34m()\u001b[0m\n",
            "\u001b[0;32m/usr/local/lib/python3.10/dist-packages/pandas/_libs/parsers.pyx\u001b[0m in \u001b[0;36mpandas._libs.parsers.raise_parser_error\u001b[0;34m()\u001b[0m\n",
            "\u001b[0;31mParserError\u001b[0m: Error tokenizing data. C error: Expected 64 fields in line 3231, saw 84\n"
          ]
        }
      ]
    },
    {
      "cell_type": "markdown",
      "source": [
        "**UNDERSTANDING DATA**"
      ],
      "metadata": {
        "id": "dlQ65vCFug1Q"
      }
    },
    {
      "cell_type": "code",
      "source": [
        "# Viewing the file headers to derive a primary meaning of the data\n",
        "df.head()"
      ],
      "metadata": {
        "id": "oPPls7YmuZyR"
      },
      "execution_count": null,
      "outputs": []
    },
    {
      "cell_type": "markdown",
      "source": [
        "**EXPLORATORY DATA ANALYSIS**"
      ],
      "metadata": {
        "id": "tCK1pcwXvmkR"
      }
    },
    {
      "cell_type": "code",
      "source": [
        "df.shape"
      ],
      "metadata": {
        "colab": {
          "base_uri": "https://localhost:8080/",
          "height": 175
        },
        "id": "UPObYGf2vnO3",
        "outputId": "c54a2b79-369f-48e9-8e2f-43ddafb175c4"
      },
      "execution_count": 6,
      "outputs": [
        {
          "output_type": "error",
          "ename": "NameError",
          "evalue": "ignored",
          "traceback": [
            "\u001b[0;31m---------------------------------------------------------------------------\u001b[0m",
            "\u001b[0;31mNameError\u001b[0m                                 Traceback (most recent call last)",
            "\u001b[0;32m<ipython-input-6-633337079cd0>\u001b[0m in \u001b[0;36m<cell line: 1>\u001b[0;34m()\u001b[0m\n\u001b[0;32m----> 1\u001b[0;31m \u001b[0mdf\u001b[0m\u001b[0;34m.\u001b[0m\u001b[0mshape\u001b[0m\u001b[0;34m\u001b[0m\u001b[0;34m\u001b[0m\u001b[0m\n\u001b[0m",
            "\u001b[0;31mNameError\u001b[0m: name 'df' is not defined"
          ]
        }
      ]
    },
    {
      "cell_type": "code",
      "source": [
        "df.info()"
      ],
      "metadata": {
        "id": "AG8IwAO5vrpq"
      },
      "execution_count": null,
      "outputs": []
    },
    {
      "cell_type": "code",
      "source": [
        "df.rename(columns={'Close(t)':'Close'}, inplace=True)\n",
        "df.head()"
      ],
      "metadata": {
        "id": "cbDWx8v2vxXO"
      },
      "execution_count": null,
      "outputs": []
    },
    {
      "cell_type": "markdown",
      "source": [
        "Date column is of type 'object'. Therefore it is necessary to cast it into type Date"
      ],
      "metadata": {
        "id": "2AcJaLgSv3FW"
      }
    },
    {
      "cell_type": "code",
      "source": [
        "# changing date format - date time format, to_datetime func\n",
        "df['Date'] = pd.to_datetime(df['Date'])"
      ],
      "metadata": {
        "id": "QPCramGov3wf"
      },
      "execution_count": null,
      "outputs": []
    },
    {
      "cell_type": "code",
      "source": [
        "df.info()"
      ],
      "metadata": {
        "id": "FXTM555Nv8Yd"
      },
      "execution_count": null,
      "outputs": []
    },
    {
      "cell_type": "code",
      "source": [
        "df.describe()"
      ],
      "metadata": {
        "id": "tbafrvDewA5e"
      },
      "execution_count": null,
      "outputs": []
    },
    {
      "cell_type": "code",
      "source": [
        "df.columns"
      ],
      "metadata": {
        "id": "h33ZL6UHwBvl"
      },
      "execution_count": null,
      "outputs": []
    },
    {
      "cell_type": "markdown",
      "source": [
        "##**PLOT TIME SERIES CHART FOR GOOGLE**\n",
        "###**Based on the Close Price of the Stock**"
      ],
      "metadata": {
        "id": "7l8x5vVuwFIR"
      }
    },
    {
      "cell_type": "code",
      "source": [
        "#Visualizing Close Price data\n",
        "plt.figure(figsize=(15, 7))\n",
        "sns.lineplot(data=df, x='Date', y='Close')\n",
        "plt.title(\"Google Stock Price\", fontsize=20)\n",
        "plt.ylabel('Close Price in USD($) ', fontsize=14)\n",
        "plt.xlabel('Years', fontsize=14)\n",
        "plt.grid(which=\"major\", color='k', linestyle='-.', linewidth=0.5)\n",
        "plt.show()"
      ],
      "metadata": {
        "id": "vae_9kmswISm"
      },
      "execution_count": null,
      "outputs": []
    },
    {
      "cell_type": "code",
      "source": [
        "#Visualizing the Volume of trade data\n",
        "df['Volume'].plot(figsize=(20, 5))\n",
        "plt.title('Volume Traded', fontsize=20)\n",
        "plt.ylabel('Volume ', fontsize=14)\n",
        "plt.xlabel('Date', fontsize=14)\n",
        "plt.show()"
      ],
      "metadata": {
        "id": "pcYBAJpOwMm9"
      },
      "execution_count": null,
      "outputs": []
    },
    {
      "cell_type": "markdown",
      "source": [
        "## **PREPROCESSING THE DATA**"
      ],
      "metadata": {
        "id": "DtRcjz9FwOwT"
      }
    },
    {
      "cell_type": "code",
      "source": [
        "df.dtypes"
      ],
      "metadata": {
        "id": "Bii2ITUXwQ3E"
      },
      "execution_count": null,
      "outputs": []
    },
    {
      "cell_type": "code",
      "source": [
        "df.isna().sum()"
      ],
      "metadata": {
        "id": "TcZ5HFbQwUvr"
      },
      "execution_count": null,
      "outputs": []
    },
    {
      "cell_type": "code",
      "source": [
        "df.corr()['Close'].sort_values(ascending=False).head(10)"
      ],
      "metadata": {
        "id": "mJoZyVbuwchj"
      },
      "execution_count": null,
      "outputs": []
    },
    {
      "cell_type": "markdown",
      "source": [
        "#### **TRAIN TEST SPLIT**\n",
        "\n",
        "Close_forecast is the column that we are trying to predict here which is the price for the next day"
      ],
      "metadata": {
        "id": "EVhc-SMnwfQs"
      }
    },
    {
      "cell_type": "code",
      "source": [
        "# Set the 'Date' column as the index\n",
        "df.set_index('Date', inplace=True)\n",
        "X = np.array(df.index).reshape(-1,1)\n",
        "# To create the NumPy array X from the index values of the dataframe df('Date')\n",
        "# df.index refers to the index values of the DataFrame df, which in this case are the dates.\n",
        "# np.array(df.index) converts the index values into a NumPy array.\n",
        "# .reshape(-1,1) is used to reshape the array. In this case, -1 indicates that the number of rows is unknown and will be inferred based on the number of elements in the array, while 1 indicates that there should be only one column.\n",
        "# By reshaping the array to have one column, we are preparing the data to be used as the independent variable (X) in the linear regression model. The X array will contain the dates, allowing us to train the model to predict the stock prices based on the corresponding dates\n",
        "y = df['Close_forcast']"
      ],
      "metadata": {
        "id": "qAe27TKpwgLr"
      },
      "execution_count": null,
      "outputs": []
    },
    {
      "cell_type": "code",
      "source": [
        "# Splitting the data into train and test set\n",
        "X_train,X_test,y_train,y_test = train_test_split(X,y,test_size=0.3,random_state=5)"
      ],
      "metadata": {
        "id": "R0snVy2lwm1c"
      },
      "execution_count": null,
      "outputs": []
    },
    {
      "cell_type": "code",
      "source": [
        "X.shape"
      ],
      "metadata": {
        "id": "_xHuY1mqwonL"
      },
      "execution_count": null,
      "outputs": []
    },
    {
      "cell_type": "code",
      "source": [
        "X_train.shape"
      ],
      "metadata": {
        "id": "9tyRJtamwprM"
      },
      "execution_count": null,
      "outputs": []
    },
    {
      "cell_type": "code",
      "source": [
        "y_train.shape"
      ],
      "metadata": {
        "id": "LuHHDJQPwrt3"
      },
      "execution_count": null,
      "outputs": []
    },
    {
      "cell_type": "code",
      "source": [
        "y_test.shape"
      ],
      "metadata": {
        "id": "a0-jLVPkwub9"
      },
      "execution_count": null,
      "outputs": []
    },
    {
      "cell_type": "markdown",
      "source": [
        "**Scaling the train set features**"
      ],
      "metadata": {
        "id": "LrfA2AG0wz5d"
      }
    },
    {
      "cell_type": "code",
      "source": [
        "mm = MinMaxScaler()\n",
        "ss = StandardScaler()\n",
        "\n",
        "#Feature Scaling -results in a feature set having normally distributed values\n",
        "ss.fit(X_train)"
      ],
      "metadata": {
        "id": "8nzXImAkw00A"
      },
      "execution_count": null,
      "outputs": []
    },
    {
      "cell_type": "markdown",
      "source": [
        "**BUILDING LINEAR REGRESSION MODEL**"
      ],
      "metadata": {
        "id": "RZYzOIkqxAOy"
      }
    },
    {
      "cell_type": "code",
      "source": [
        "# Creating an instance of the LinearRegression class and training it\n",
        "lr = LinearRegression()\n",
        "lr.fit(X_train,y_train)\n",
        "# y_pred = lr.predict(X_test)"
      ],
      "metadata": {
        "id": "tn31ldk3xCp6"
      },
      "execution_count": null,
      "outputs": []
    },
    {
      "cell_type": "code",
      "source": [
        "type(X_test)"
      ],
      "metadata": {
        "id": "wW22cUGKxGgR"
      },
      "execution_count": null,
      "outputs": []
    },
    {
      "cell_type": "code",
      "source": [
        "# Predict the stock prices\n",
        "X_test = X_test.astype(float)\n",
        "y_pred = lr.predict(X_test)"
      ],
      "metadata": {
        "id": "fxiF5cEKxJrE"
      },
      "execution_count": null,
      "outputs": []
    },
    {
      "cell_type": "code",
      "source": [
        "y_test"
      ],
      "metadata": {
        "id": "gNNThO4TxKr3"
      },
      "execution_count": null,
      "outputs": []
    },
    {
      "cell_type": "code",
      "source": [
        "y_pred_df = pd.DataFrame(y_pred)\n",
        "y_pred_df"
      ],
      "metadata": {
        "id": "jiI3E2shxOEk"
      },
      "execution_count": null,
      "outputs": []
    },
    {
      "cell_type": "code",
      "source": [
        "y_test_df=pd.DataFrame(y_test)\n",
        "y_test_df"
      ],
      "metadata": {
        "id": "POJzco1FxP50"
      },
      "execution_count": null,
      "outputs": []
    },
    {
      "cell_type": "code",
      "source": [
        "# Create a new DataFrame for visualization\n",
        "df_pred = pd.DataFrame({'Actual': y_test_df['Close_forcast'], 'Predicted': y_pred}, index=y_test.index)"
      ],
      "metadata": {
        "id": "IaHH2lQFxSJ8"
      },
      "execution_count": null,
      "outputs": []
    },
    {
      "cell_type": "code",
      "source": [
        "df_pred = df_pred.reset_index()\n",
        "df_pred"
      ],
      "metadata": {
        "id": "ouupOHq6xVSP"
      },
      "execution_count": null,
      "outputs": []
    },
    {
      "cell_type": "code",
      "source": [
        "df_pred.dtypes"
      ],
      "metadata": {
        "id": "rXraY5aAxXQH"
      },
      "execution_count": null,
      "outputs": []
    },
    {
      "cell_type": "code",
      "source": [
        "# Sorting the df_pred dataframe according to 'Date'\n",
        "df_pred_sorted = df_pred.sort_values('Date')\n",
        "df_pred_sorted"
      ],
      "metadata": {
        "id": "3T949CzzxZk1"
      },
      "execution_count": null,
      "outputs": []
    },
    {
      "cell_type": "markdown",
      "source": [
        "**PLOT PREDICTED vs ACTUAL PRICE ON TIME SERIES PLOT FOR GOOGLE**"
      ],
      "metadata": {
        "id": "NkBRsy_gyTD5"
      }
    },
    {
      "cell_type": "code",
      "source": [
        "# Plot the actual and predicted stock prices\n",
        "plt.figure(figsize=(12, 6))\n",
        "plt.plot(df_pred_sorted['Date'], df_pred_sorted['Actual'], label='Actual')\n",
        "plt.plot(df_pred_sorted['Date'], df_pred_sorted['Predicted'], label='Predicted')\n",
        "plt.title('Actual vs Predicted Stock Prices - GOOGLE')\n",
        "plt.xlabel('Date')\n",
        "plt.ylabel('CLosing Price')\n",
        "plt.legend(['Actual', 'Predicted'])\n",
        "plt.show()"
      ],
      "metadata": {
        "id": "ZUMXkSjBxcld"
      },
      "execution_count": null,
      "outputs": []
    },
    {
      "cell_type": "markdown",
      "source": [
        "**MODEL EVALUATION**"
      ],
      "metadata": {
        "id": "7BALCat7xgSQ"
      }
    },
    {
      "cell_type": "code",
      "source": [
        "# Calculating theMAE and MSE for the Model\n",
        "print(mean_absolute_error(y_test,y_pred))\n",
        "print(mean_squared_error(y_test,y_pred))\n",
        "np.sqrt(mean_squared_error(y_test,y_pred))"
      ],
      "metadata": {
        "id": "gM6ODu42xhA7"
      },
      "execution_count": null,
      "outputs": []
    },
    {
      "cell_type": "markdown",
      "source": [
        "**DECICISION TREE REGRESSION**"
      ],
      "metadata": {
        "id": "bOLLvSn0xll1"
      }
    },
    {
      "cell_type": "code",
      "source": [
        "from sklearn.model_selection import cross_val_score\n",
        "\n",
        "from sklearn.tree import DecisionTreeRegressor\n",
        "tree_reg = DecisionTreeRegressor()\n",
        "tree_reg.fit(X_train, y_train)"
      ],
      "metadata": {
        "id": "lRSh0RKRxzYB"
      },
      "execution_count": null,
      "outputs": []
    },
    {
      "cell_type": "code",
      "source": [
        "y_pred_tree = tree_reg.predict(X_test)"
      ],
      "metadata": {
        "id": "32R_Rs1Nx2vN"
      },
      "execution_count": null,
      "outputs": []
    },
    {
      "cell_type": "code",
      "source": [
        "mean_squared_error(y_test, y_pred_tree)"
      ],
      "metadata": {
        "id": "wUJ7TwgCx7Kx"
      },
      "execution_count": null,
      "outputs": []
    },
    {
      "cell_type": "code",
      "source": [
        "#but this is overfitting model\n",
        "#cv=8 => dividing into 8 folds\n",
        "rmses = np.sqrt(-cross_val_score(tree_reg, X_train, y_train, cv=8, scoring='neg_mean_squared_error'))"
      ],
      "metadata": {
        "id": "J4aEtW_ex9yW"
      },
      "execution_count": null,
      "outputs": []
    },
    {
      "cell_type": "code",
      "source": [
        "#rmse of DecisionTreeRegressor\n",
        "rmses"
      ],
      "metadata": {
        "id": "EDyAfQmpyAAZ"
      },
      "execution_count": null,
      "outputs": []
    },
    {
      "cell_type": "markdown",
      "source": [
        "**RANDOM FOREST REGRESSOR**"
      ],
      "metadata": {
        "id": "bd3IRB1exr7C"
      }
    },
    {
      "cell_type": "code",
      "source": [
        "from sklearn.ensemble import RandomForestRegressor\n",
        "rand_reg = RandomForestRegressor()\n",
        "rmses = np.sqrt(-cross_val_score(rand_reg, X_train, y_train, cv=8, scoring='neg_mean_squared_error'))"
      ],
      "metadata": {
        "id": "GExNlTROyC1R"
      },
      "execution_count": null,
      "outputs": []
    },
    {
      "cell_type": "code",
      "source": [
        "#rmse of RandomForestRegressor\n",
        "rmses"
      ],
      "metadata": {
        "id": "wXxdZjldyG0v"
      },
      "execution_count": null,
      "outputs": []
    },
    {
      "cell_type": "code",
      "source": [
        "rand_reg.fit(X_train, y_train)\n",
        "y_pred_rf = rand_reg.predict(X_test)\n",
        "mean_squared_error(y_test, y_pred_rf)"
      ],
      "metadata": {
        "id": "TsNivHmsyK-b"
      },
      "execution_count": null,
      "outputs": []
    },
    {
      "cell_type": "markdown",
      "source": [
        "The minimum value of Root Mean Squared Error is obtained by using the RandomForestRegressor model."
      ],
      "metadata": {
        "id": "QddQ_mGQyNdF"
      }
    }
  ]
}